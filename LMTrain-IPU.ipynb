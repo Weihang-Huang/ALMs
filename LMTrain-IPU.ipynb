{
 "cells": [
  {
   "attachments": {},
   "cell_type": "markdown",
   "metadata": {},
   "source": [
    "# LMTrain-IPU\n",
    "\n",
    "In this notebook we show how we do authorial GPT-2s training on Graphcore IPU."
   ]
  },
  {
   "attachments": {},
   "cell_type": "markdown",
   "metadata": {},
   "source": [
    "Install dependencies."
   ]
  },
  {
   "cell_type": "code",
   "execution_count": null,
   "metadata": {
    "execution": {
     "iopub.execute_input": "2023-08-24T13:02:10.426319Z",
     "iopub.status.busy": "2023-08-24T13:02:10.426056Z"
    }
   },
   "outputs": [],
   "source": [
    "!pip install -q \"optimum-graphcore>=0.5, <0.6\"\n",
    "!pip install transformers datasets"
   ]
  },
  {
   "attachments": {},
   "cell_type": "markdown",
   "metadata": {},
   "source": [
    "Import packages."
   ]
  },
  {
   "cell_type": "code",
   "execution_count": null,
   "metadata": {
    "id": "JzYEeCd5yw2p"
   },
   "outputs": [],
   "source": [
    "import os,math,shutil\n",
    "from transformers import AutoTokenizer, DataCollatorForLanguageModeling, AutoModelForCausalLM, Trainer, default_data_collator\n",
    "from optimum.graphcore import IPUConfig, IPUTrainer, IPUTrainingArguments\n",
    "from datasets import Dataset"
   ]
  },
  {
   "attachments": {},
   "cell_type": "markdown",
   "metadata": {},
   "source": [
    "Set up variables here.\n",
    "\n",
    "log_home: the directory containing two text files done.txt and target.txt. To start, place the author_tags line by line in target.txt and leave done.txt blank. After an authorial GPT-2 is successfully fine-tuned and saved to hard drive, its label will be logged in done.txt and hence be skipped when the notebook re-started.\n",
    "\n",
    "model_home: the directory for the fine-tuned model output.\n",
    "\n",
    "data_path: the directory for the dataset. Typically under such directory should have two csv: train.csv and test.csv\n",
    "\n",
    "author_tag_label: the column name for author_tag, in GEFA, it is \"author_tag\". Change this only when you want to use this notebook for a dataset other than GEFA series."
   ]
  },
  {
   "cell_type": "code",
   "execution_count": null,
   "metadata": {},
   "outputs": [],
   "source": [
    "log_home=\"log\"\n",
    "model_home=\"model\"\n",
    "data_path=\"corpus/GEFA-full\"\n",
    "author_tag_label=\"author_tag\""
   ]
  },
  {
   "attachments": {},
   "cell_type": "markdown",
   "metadata": {},
   "source": [
    "Load working environment."
   ]
  },
  {
   "cell_type": "code",
   "execution_count": null,
   "metadata": {},
   "outputs": [],
   "source": [
    "target_log=os.path.join(log_home,\"target.txt\")\n",
    "done_log=os.path.join(log_home,\"done.txt\")\n",
    "train_data_path=os.path.join(data_path,\"train.csv\")\n",
    "if(os.path.isdir(\"gpt2\")): shutil.rmtree(\"gpt2\")\n",
    "if(not(os.path.isdir(model_home))):os.mkdir(model_home)"
   ]
  },
  {
   "attachments": {},
   "cell_type": "markdown",
   "metadata": {},
   "source": [
    "Set up training tasks."
   ]
  },
  {
   "cell_type": "code",
   "execution_count": null,
   "metadata": {},
   "outputs": [],
   "source": [
    "with open(target_log,\"r\",-1,\"utf-8\") as f:\n",
    "    target_content=f.read().strip().rstrip()\n",
    "with open(done_log,\"r\",-1,\"utf-8\") as f:\n",
    "    done_content=f.read().strip().rstrip()\n",
    "target_lines=target_content.split()\n",
    "done_lines=done_content.split()\n",
    "\n",
    "to_do_lines=[target_line for target_line in target_lines if target_line not in done_lines]\n",
    "\n",
    "print(\"Fetched tasks:\")\n",
    "print(\"\\n\".join(to_do_lines))\n",
    "print(\"******\")"
   ]
  },
  {
   "attachments": {},
   "cell_type": "markdown",
   "metadata": {},
   "source": [
    "Load dataset."
   ]
  },
  {
   "cell_type": "code",
   "execution_count": null,
   "metadata": {},
   "outputs": [],
   "source": [
    "total_dataset=Dataset.from_csv(train_data_path)"
   ]
  },
  {
   "attachments": {},
   "cell_type": "markdown",
   "metadata": {},
   "source": [
    "Run the script below to start training."
   ]
  },
  {
   "cell_type": "code",
   "execution_count": null,
   "metadata": {
    "id": "s6uJDi3ryw2x"
   },
   "outputs": [],
   "source": [
    "for to_do_line in to_do_lines:\n",
    "    to_do_line_cells=to_do_line.split(\",\")\n",
    "    author_tag=to_do_line_cells[0]\n",
    "    \n",
    "    print(f\"Start processing:{author_tag}\")\n",
    "\n",
    "    target_train_set=total_dataset.filter(lambda daton:daton[author_tag_label]==author_tag)\n",
    "    \n",
    "    dataset=target_train_set.train_test_split(test_size=0.2,shuffle=True)\n",
    "\n",
    "    tokenizer=AutoTokenizer.from_pretrained(\"gpt2\")\n",
    "    \n",
    "    def preprocess_function(examples):\n",
    "        return tokenizer(examples[\"text\"])\n",
    "    \n",
    "    tokenizer.pad_token=tokenizer.eos_token\n",
    "    \n",
    "    lm_dataset=dataset.map(preprocess_function, batched=True,num_proc=8,remove_columns=dataset[\"train\"].column_names)\n",
    "    \n",
    "    def group_texts(examples,block_size=128):\n",
    "        concatenated_examples={key: sum(examples[key], []) for key in examples.keys()}\n",
    "        total_length=len(concatenated_examples[list(examples.keys())[0]])\n",
    "        if total_length >= block_size:\n",
    "            total_length=(total_length // block_size) * block_size\n",
    "        result={\n",
    "            key:[token[i : i + block_size] for i in range(0, total_length, block_size)]\n",
    "            for key, token in concatenated_examples.items()\n",
    "        }\n",
    "        result[\"labels\"]=result[\"input_ids\"].copy()\n",
    "        return result\n",
    "    \n",
    "    lm_dataset=lm_dataset.map(group_texts,batched=True,num_proc=8)\n",
    "\n",
    "    tokenizer.pad_token=tokenizer.eos_token\n",
    "    data_collator=DataCollatorForLanguageModeling(tokenizer=tokenizer, mlm=False)\n",
    "\n",
    "    pod_type=os.getenv(\"GRAPHCORE_POD_TYPE\", \"pod4\")\n",
    "    executable_cache_dir=os.getenv(\"POPLAR_EXECUTABLE_CACHE_DIR\", \"/tmp/exe_cache/\") + \"/language_modelling_from_scratch\"\n",
    "\n",
    "    model_checkpoint=\"gpt2\"\n",
    "    ipu_config_name=\"Graphcore/gpt2-small-ipu\"\n",
    "    micro_batch_size=2\n",
    "    gradient_accumulation_steps=64\n",
    "    dataloader_workers=52\n",
    "\n",
    "    ipu_config=IPUConfig.from_pretrained(ipu_config_name, executable_cache_dir=executable_cache_dir)\n",
    "    model=AutoModelForCausalLM.from_pretrained(model_checkpoint)\n",
    "\n",
    "    training_args=IPUTrainingArguments(\n",
    "        f\"{model_checkpoint}\",\n",
    "        learning_rate=2e-5,\n",
    "        weight_decay=0.01,\n",
    "        per_device_train_batch_size=micro_batch_size,\n",
    "        per_device_eval_batch_size=micro_batch_size,\n",
    "        gradient_accumulation_steps=gradient_accumulation_steps,\n",
    "        num_train_epochs=100,\n",
    "        loss_scaling=16384,\n",
    "        pod_type=pod_type,\n",
    "        warmup_ratio=0.1,\n",
    "        dataloader_drop_last=True,\n",
    "        dataloader_num_workers=dataloader_workers,\n",
    "        logging_steps=10,\n",
    "        push_to_hub=False,\n",
    "        save_total_limit=2,\n",
    "    )\n",
    "    trainer=IPUTrainer(\n",
    "        model=model,\n",
    "        ipu_config=ipu_config,\n",
    "        args=training_args,\n",
    "        train_dataset=lm_dataset[\"train\"],\n",
    "        eval_dataset=lm_dataset[\"test\"],\n",
    "        tokenizer=tokenizer,\n",
    "        data_collator=default_data_collator,\n",
    "    )\n",
    "    trainer.train()\n",
    "    trainer.save_model(os.path.join(model_home,author_tag))\n",
    "\n",
    "    eval_results=trainer.evaluate()\n",
    "    eval_str=f\"Perplexity: {math.exp(eval_results['eval_loss']):.2f}\"\n",
    "    print(eval_str)\n",
    "    \n",
    "    with open(os.path.join(model_home,author_tag,\"eval.txt\"),\"a\",-1,\"utf-8\") as f:\n",
    "        f.write(eval_str)\n",
    "    \n",
    "    with open(done_log,\"a\",-1,\"utf-8\") as f:\n",
    "        f.write(to_do_line+\"\\n\")\n",
    "        \n",
    "    if(os.path.isdir(\"gpt2\")): shutil.rmtree(\"gpt2\")\n",
    "        \n",
    "    print(f\"Finished processing:{author_tag}\")"
   ]
  }
 ],
 "metadata": {
  "colab": {
   "provenance": []
  },
  "kernelspec": {
   "display_name": "Python 3",
   "language": "python",
   "name": "python3"
  },
  "language_info": {
   "codemirror_mode": {
    "name": "ipython",
    "version": 3
   },
   "file_extension": ".py",
   "mimetype": "text/x-python",
   "name": "python",
   "nbconvert_exporter": "python",
   "pygments_lexer": "ipython3",
   "version": "3.10.12 (main, Jun 11 2023, 05:26:28) [GCC 11.4.0]"
  },
  "vscode": {
   "interpreter": {
    "hash": "916dbcbb3f70747c44a77c7bcd40155683ae19c65e1c03b4aa3499c5328201f1"
   }
  }
 },
 "nbformat": 4,
 "nbformat_minor": 4
}
