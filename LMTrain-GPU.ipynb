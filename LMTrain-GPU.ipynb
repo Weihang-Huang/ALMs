{
 "cells": [
  {
   "attachments": {},
   "cell_type": "markdown",
   "metadata": {},
   "source": [
    "# LMTrain-GPU\n",
    "\n",
    "In this notebook we show how we do authorial GPT-2s training on GPU."
   ]
  },
  {
   "cell_type": "markdown",
   "metadata": {},
   "source": [
    "Install dependencies."
   ]
  },
  {
   "cell_type": "code",
   "execution_count": null,
   "metadata": {},
   "outputs": [],
   "source": [
    "!pip install transformers datasets"
   ]
  },
  {
   "cell_type": "markdown",
   "metadata": {},
   "source": [
    "Import packages."
   ]
  },
  {
   "cell_type": "code",
   "execution_count": null,
   "metadata": {
    "execution": {
     "iopub.execute_input": "2023-09-27T00:27:18.812494Z",
     "iopub.status.busy": "2023-09-27T00:27:18.811680Z",
     "iopub.status.idle": "2023-09-27T00:27:18.815962Z",
     "shell.execute_reply": "2023-09-27T00:27:18.815350Z",
     "shell.execute_reply.started": "2023-09-27T00:27:18.812468Z"
    },
    "id": "JzYEeCd5yw2p"
   },
   "outputs": [],
   "source": [
    "from transformers import AutoTokenizer, DataCollatorForLanguageModeling, AutoModelForCausalLM, TrainingArguments,Trainer\n",
    "from datasets import Dataset\n",
    "import os,math,shutil"
   ]
  },
  {
   "attachments": {},
   "cell_type": "markdown",
   "metadata": {},
   "source": [
    "Set up variables here.\n",
    "\n",
    "log_home: the directory containing two text files done.txt and target.txt. To start, place the author_tags line by line in target.txt and leave done.txt blank. After an authorial GPT-2 is successfully fine-tuned and saved to hard drive, its label will be logged in done.txt and hence be skipped when the notebook re-started.\n",
    "\n",
    "model_home: the directory for the fine-tuned model output.\n",
    "\n",
    "data_path: the directory for the dataset. Typically under such directory should have two csv: train.csv and test.csv\n",
    "\n",
    "author_tag_label: the column name for author_tag, in GEFA, it is \"author_tag\". Change this only when you want to use this notebook for a dataset other than GEFA series."
   ]
  },
  {
   "cell_type": "code",
   "execution_count": null,
   "metadata": {
    "execution": {
     "iopub.execute_input": "2023-09-27T00:27:18.817159Z",
     "iopub.status.busy": "2023-09-27T00:27:18.816993Z",
     "iopub.status.idle": "2023-09-27T00:27:18.820918Z",
     "shell.execute_reply": "2023-09-27T00:27:18.820294Z",
     "shell.execute_reply.started": "2023-09-27T00:27:18.817145Z"
    }
   },
   "outputs": [],
   "source": [
    "log_home=\"log\"\n",
    "model_home=\"model\"\n",
    "data_path=\"corpus/GEFA-full\"\n",
    "author_tag_label=\"author_tag\""
   ]
  },
  {
   "cell_type": "markdown",
   "metadata": {},
   "source": [
    "Load working environment."
   ]
  },
  {
   "cell_type": "code",
   "execution_count": null,
   "metadata": {
    "execution": {
     "iopub.execute_input": "2023-09-27T00:27:18.821734Z",
     "iopub.status.busy": "2023-09-27T00:27:18.821580Z",
     "iopub.status.idle": "2023-09-27T00:27:18.829292Z",
     "shell.execute_reply": "2023-09-27T00:27:18.828745Z",
     "shell.execute_reply.started": "2023-09-27T00:27:18.821721Z"
    }
   },
   "outputs": [],
   "source": [
    "train_data_path=os.path.join(data_path,\"train.csv\")\n",
    "target_log=os.path.join(log_home,\"target.txt\")\n",
    "done_log=os.path.join(log_home,\"done.txt\")\n",
    "if(os.path.isdir(\"gpt2-buffer\")): shutil.rmtree(\"gpt2-buffer\")\n",
    "os.environ[\"WANDB_DISABLED\"]=\"true\"\n",
    "if(not(os.path.isdir(model_home))):os.mkdir(model_home)"
   ]
  },
  {
   "attachments": {},
   "cell_type": "markdown",
   "metadata": {},
   "source": [
    "Set up training tasks."
   ]
  },
  {
   "cell_type": "code",
   "execution_count": null,
   "metadata": {
    "execution": {
     "iopub.execute_input": "2023-09-27T00:27:18.830443Z",
     "iopub.status.busy": "2023-09-27T00:27:18.830281Z",
     "iopub.status.idle": "2023-09-27T00:27:18.835142Z",
     "shell.execute_reply": "2023-09-27T00:27:18.834590Z",
     "shell.execute_reply.started": "2023-09-27T00:27:18.830428Z"
    }
   },
   "outputs": [],
   "source": [
    "with open(target_log,\"r\",-1,\"utf-8\") as f:\n",
    "    target_content=f.read().strip().rstrip()\n",
    "with open(done_log,\"r\",-1,\"utf-8\") as f:\n",
    "    done_content=f.read().strip().rstrip()\n",
    "target_lines=target_content.split()\n",
    "done_lines=done_content.split()\n",
    "\n",
    "to_do_lines=[target_line for target_line in target_lines if target_line not in done_lines]\n",
    "\n",
    "print(\"Fetched tasks:\")\n",
    "print(\"\\n\".join(to_do_lines))\n",
    "print(\"******\")"
   ]
  },
  {
   "cell_type": "markdown",
   "metadata": {},
   "source": [
    "Load dataset."
   ]
  },
  {
   "cell_type": "code",
   "execution_count": null,
   "metadata": {},
   "outputs": [],
   "source": [
    "total_dataset=Dataset.from_csv(train_data_path)"
   ]
  },
  {
   "attachments": {},
   "cell_type": "markdown",
   "metadata": {},
   "source": [
    "Run the script below to start training."
   ]
  },
  {
   "cell_type": "code",
   "execution_count": null,
   "metadata": {
    "execution": {
     "iopub.execute_input": "2023-09-27T00:27:18.891951Z",
     "iopub.status.busy": "2023-09-27T00:27:18.891571Z"
    },
    "id": "s6uJDi3ryw2x"
   },
   "outputs": [],
   "source": [
    "for to_do_line in to_do_lines:\n",
    "    to_do_line_cells=to_do_line.split(\",\")\n",
    "    author_tag=to_do_line_cells[0]\n",
    "    \n",
    "    print(f\"Start processing:{author_tag}\")\n",
    "\n",
    "    target_train_set=total_dataset.filter(lambda daton:str(daton[author_tag_label])==str(author_tag))\n",
    "    \n",
    "    dataset=target_train_set.train_test_split(test_size=0.2,shuffle=True)\n",
    "\n",
    "    tokenizer=AutoTokenizer.from_pretrained(\"gpt2\")\n",
    "    \n",
    "    def preprocess_function(examples):\n",
    "        return tokenizer(examples[\"text\"])\n",
    "    \n",
    "    tokenizer.pad_token=tokenizer.eos_token\n",
    "    data_collator=DataCollatorForLanguageModeling(tokenizer=tokenizer, mlm=False)\n",
    "    \n",
    "    lm_dataset=dataset.map(preprocess_function, batched=True,num_proc=8,remove_columns=dataset[\"train\"].column_names)\n",
    "    \n",
    "    def group_texts(examples,block_size=128):\n",
    "\n",
    "        concatenated_examples={key: sum(examples[key], []) for key in examples.keys()}\n",
    "        total_length=len(concatenated_examples[list(examples.keys())[0]])\n",
    "        if total_length >=block_size:\n",
    "            total_length=(total_length // block_size) * block_size\n",
    "        result={\n",
    "            key: [token[i : i + block_size] for i in range(0, total_length, block_size)]\n",
    "            for key, token in concatenated_examples.items()\n",
    "        }\n",
    "        result[\"labels\"]=result[\"input_ids\"].copy()\n",
    "        return result\n",
    "    \n",
    "    lm_dataset=lm_dataset.map(group_texts,batched=True,num_proc=8)\n",
    "    model_checkpoint=\"gpt2\"\n",
    "    model=AutoModelForCausalLM.from_pretrained(model_checkpoint)\n",
    "    training_args=TrainingArguments(\n",
    "        output_dir=\"gpt2-buffer\",\n",
    "        evaluation_strategy=\"epoch\",\n",
    "        learning_rate=2e-5,\n",
    "        weight_decay=0.01,\n",
    "        num_train_epochs=100,\n",
    "        gradient_accumulation_steps=64,\n",
    "        fp16=True,\n",
    "        push_to_hub=False,\n",
    "    )\n",
    "    trainer=Trainer(\n",
    "        model=model,\n",
    "        args=training_args,\n",
    "        tokenizer=tokenizer,\n",
    "        train_dataset=lm_dataset[\"train\"],\n",
    "        eval_dataset=lm_dataset[\"test\"],\n",
    "        data_collator=data_collator\n",
    "    )\n",
    "\n",
    "    trainer.train()\n",
    "    trainer.save_model(os.path.join(model_home,author_tag))\n",
    "    eval_results=trainer.evaluate()\n",
    "    eval_str=f\"Perplexity: {math.exp(eval_results['eval_loss']):.2f}\"\n",
    "    print(eval_str)\n",
    "    \n",
    "    with open(os.path.join(model_home,author_tag,\"eval.txt\"),\"a\",-1,\"utf-8\") as f:\n",
    "        f.write(eval_str)\n",
    "    with open(done_log,\"a\",-1,\"utf-8\") as f:\n",
    "        f.write(to_do_line+\"\\n\")\n",
    "        \n",
    "    if(os.path.isdir(\"gpt2-buffer\")): shutil.rmtree(\"gpt2-buffer\")\n",
    "          \n",
    "    print(f\"Finished processing:{author_tag}\")"
   ]
  }
 ],
 "metadata": {
  "colab": {
   "provenance": []
  },
  "kernelspec": {
   "display_name": "Python 3 (ipykernel)",
   "language": "python",
   "name": "python3"
  },
  "language_info": {
   "codemirror_mode": {
    "name": "ipython",
    "version": 3
   },
   "file_extension": ".py",
   "mimetype": "text/x-python",
   "name": "python",
   "nbconvert_exporter": "python",
   "pygments_lexer": "ipython3",
   "version": "3.9.16 (main, Mar  8 2023, 14:00:05) \n[GCC 11.2.0]"
  },
  "vscode": {
   "interpreter": {
    "hash": "4667623706d0bd6be534204784be18d4fc88b5802b92a13f8e3236519d6c698e"
   }
  }
 },
 "nbformat": 4,
 "nbformat_minor": 4
}
